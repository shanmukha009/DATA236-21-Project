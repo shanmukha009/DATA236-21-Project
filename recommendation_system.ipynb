{
 "cells": [
  {
   "cell_type": "raw",
   "id": "fa5dc57d-50c5-41bf-a3c6-9b5ba0bb8144",
   "metadata": {},
   "source": [
    "##Importing libraries"
   ]
  },
  {
   "cell_type": "code",
   "execution_count": null,
   "id": "e3889e4c-5279-41c5-9d5e-056d18d7fe03",
   "metadata": {},
   "outputs": [
    {
     "ename": "ModuleNotFoundError",
     "evalue": "No module named 'pandas'",
     "output_type": "error",
     "traceback": [
      "\u001b[1;31m---------------------------------------------------------------------------\u001b[0m",
      "\u001b[1;31mModuleNotFoundError\u001b[0m                       Traceback (most recent call last)",
      "Cell \u001b[1;32mIn[15], line 2\u001b[0m\n\u001b[0;32m      1\u001b[0m \u001b[38;5;66;03m# Import Libraries\u001b[39;00m\n\u001b[1;32m----> 2\u001b[0m \u001b[38;5;28;01mimport\u001b[39;00m \u001b[38;5;21;01mpandas\u001b[39;00m \u001b[38;5;28;01mas\u001b[39;00m \u001b[38;5;21;01mpd\u001b[39;00m\n\u001b[0;32m      3\u001b[0m \u001b[38;5;28;01mfrom\u001b[39;00m \u001b[38;5;21;01mscipy\u001b[39;00m\u001b[38;5;21;01m.\u001b[39;00m\u001b[38;5;21;01msparse\u001b[39;00m \u001b[38;5;28;01mimport\u001b[39;00m csr_matrix\n\u001b[0;32m      4\u001b[0m \u001b[38;5;28;01mfrom\u001b[39;00m \u001b[38;5;21;01mscipy\u001b[39;00m\u001b[38;5;21;01m.\u001b[39;00m\u001b[38;5;21;01msparse\u001b[39;00m\u001b[38;5;21;01m.\u001b[39;00m\u001b[38;5;21;01mlinalg\u001b[39;00m \u001b[38;5;28;01mimport\u001b[39;00m svds\n",
      "\u001b[1;31mModuleNotFoundError\u001b[0m: No module named 'pandas'"
     ]
    }
   ],
   "source": [
    "# Import Libraries\n",
    "from scipy.sparse import csr_matrix\n",
    "from scipy.sparse.linalg import svds\n",
    "import numpy as np"
   ]
  },
  {
   "cell_type": "code",
   "execution_count": null,
   "id": "ee957fe3-c1f0-43c5-8c19-51a0f2deec4a",
   "metadata": {},
   "outputs": [],
   "source": [
    "# Load the New Dataset\n",
    "df = pd.read_csv('ecommerce_sample_1700_rows.csv')\n",
    "df.columns = ['user_id', 'prod_id', 'rating', 'price']\n",
    "df = df.drop(columns=['price'])"
   ]
  },
  {
   "cell_type": "code",
   "execution_count": null,
   "id": "587b2adb-aac9-4a60-a163-464f60720568",
   "metadata": {},
   "outputs": [],
   "source": [
    "# Ensure Data Types\n",
    "df['user_id'] = df['user_id'].astype(str)\n",
    "df['prod_id'] = df['prod_id'].astype(str)\n",
    "df['rating'] = pd.to_numeric(df['rating'], errors='coerce')\n",
    "df = df.dropna(subset=['rating'])"
   ]
  },
  {
   "cell_type": "code",
   "execution_count": null,
   "id": "67585937-ab0c-4779-8280-9c67a26ea4d6",
   "metadata": {},
   "outputs": [],
   "source": [
    "# Handle Duplicates\n",
    "if df.duplicated(subset=['user_id', 'prod_id']).sum() > 0:\n",
    "    print(\"Duplicate user-product combinations found. Resolving...\")\n",
    "    df = df.groupby(['user_id', 'prod_id'], as_index=False).agg({'rating': 'mean'})\n"
   ]
  },
  {
   "cell_type": "code",
   "execution_count": null,
   "id": "ccfba035-c85f-4c12-a3fd-d338d130c4d6",
   "metadata": {},
   "outputs": [],
   "source": [
    "# Preprocessing\n",
    "counts = df['user_id'].value_counts()\n",
    "df_final = df[df['user_id'].isin(counts[counts >= 1].index)]  # Include all users with at least 1 interaction"
   ]
  },
  {
   "cell_type": "code",
   "execution_count": null,
   "id": "235aa0fc-ad1e-4afe-aac9-dd9aad4180ad",
   "metadata": {},
   "outputs": [
    {
     "name": "stdout",
     "output_type": "stream",
     "text": [
      "Sparsity of the matrix: 87.38%\n"
     ]
    }
   ],
   "source": [
    "# Create Interaction Matrix\n",
    "final_ratings_matrix = df_final.pivot(index='user_id', columns='prod_id', values='rating').fillna(0)\n",
    "\n",
    "# Check Sparsity\n",
    "if final_ratings_matrix.size == 0:\n",
    "    print(\"The interaction matrix is empty. Please check the dataset or preprocessing steps.\")\n",
    "else:\n",
    "    sparsity = 1.0 - (final_ratings_matrix.astype(bool).sum().sum() / final_ratings_matrix.size)\n",
    "    print(f\"Sparsity of the matrix: {sparsity:.2%}\")"
   ]
  },
  {
   "cell_type": "code",
   "execution_count": null,
   "id": "e5250920-b551-405d-a439-5fb4146a5446",
   "metadata": {},
   "outputs": [
    {
     "name": "stdout",
     "output_type": "stream",
     "text": [
      "(1681, 8)\n",
      "prod_id          Apple iPad Air  DeepCool Air Cooler  Google Pixel 6  \\\n",
      "user_id                                                                \n",
      "Aaron Cross                 0.0                  0.0             0.0   \n",
      "Aaron Doyle                 3.9                  0.0             0.0   \n",
      "Aaron Hodges                3.9                  0.0             0.0   \n",
      "Aaron Jones                 0.0                  0.0             0.0   \n",
      "Aaron Lopez III             0.0                  0.0             0.0   \n",
      "\n",
      "prod_id          Oneplus 12r  Samsung Galaxy S22  Wireless Headphone  \\\n",
      "user_id                                                                \n",
      "Aaron Cross              0.0                 3.5                 0.0   \n",
      "Aaron Doyle              0.0                 0.0                 0.0   \n",
      "Aaron Hodges             0.0                 0.0                 0.0   \n",
      "Aaron Jones              0.0                 0.0                 4.2   \n",
      "Aaron Lopez III          0.0                 0.0                 0.0   \n",
      "\n",
      "prod_id          iPhone 14 Pro  iPhone 15 Pro  \n",
      "user_id                                        \n",
      "Aaron Cross                0.0            0.0  \n",
      "Aaron Doyle                0.0            0.0  \n",
      "Aaron Hodges               0.0            0.0  \n",
      "Aaron Jones                0.0            0.0  \n",
      "Aaron Lopez III            4.3            0.0  \n"
     ]
    }
   ],
   "source": [
    "print(final_ratings_matrix.shape)\n",
    "print(final_ratings_matrix.head())"
   ]
  },
  {
   "cell_type": "code",
   "execution_count": null,
   "id": "9cc1052d-55c1-40b1-ace3-4999670a84f5",
   "metadata": {},
   "outputs": [
    {
     "name": "stdout",
     "output_type": "stream",
     "text": [
      "user_id\n",
      "Matthew Davis          3\n",
      "Charles Gutierrez      2\n",
      "Brandon Jones          2\n",
      "Christopher Johnson    2\n",
      "Andrea Anderson        2\n",
      "                      ..\n",
      "William Collins        1\n",
      "William Cooper         1\n",
      "William Davis          1\n",
      "William Dawson         1\n",
      "Aaron Cross            1\n",
      "Name: count, Length: 1681, dtype: int64\n"
     ]
    }
   ],
   "source": [
    "print(df['user_id'].value_counts())"
   ]
  },
  {
   "cell_type": "code",
   "execution_count": null,
   "id": "3d20d712-763f-4c71-ac72-1d1cec3a7da3",
   "metadata": {},
   "outputs": [],
   "source": [
    "# Convert to Sparse Matrix\n",
    "final_ratings_matrix_sparse = csr_matrix(final_ratings_matrix.values)"
   ]
  },
  {
   "cell_type": "code",
   "execution_count": null,
   "id": "45093992-914c-417e-bd0c-1796d9def424",
   "metadata": {},
   "outputs": [
    {
     "ename": "NameError",
     "evalue": "name 'final_ratings_matrix_sparse' is not defined",
     "output_type": "error",
     "traceback": [
      "\u001b[1;31m---------------------------------------------------------------------------\u001b[0m",
      "\u001b[1;31mNameError\u001b[0m                                 Traceback (most recent call last)",
      "Cell \u001b[1;32mIn[9], line 2\u001b[0m\n\u001b[0;32m      1\u001b[0m \u001b[38;5;66;03m# Perform SVD with dynamic k\u001b[39;00m\n\u001b[1;32m----> 2\u001b[0m k_value \u001b[38;5;241m=\u001b[39m \u001b[38;5;28mmin\u001b[39m(\u001b[43mfinal_ratings_matrix_sparse\u001b[49m\u001b[38;5;241m.\u001b[39mshape) \u001b[38;5;241m-\u001b[39m \u001b[38;5;241m1\u001b[39m\n\u001b[0;32m      3\u001b[0m k_value \u001b[38;5;241m=\u001b[39m \u001b[38;5;28mmax\u001b[39m(\u001b[38;5;241m1\u001b[39m, k_value)  \u001b[38;5;66;03m# Ensure k is at least 1\u001b[39;00m\n\u001b[0;32m      4\u001b[0m \u001b[38;5;28mprint\u001b[39m(\u001b[38;5;124mf\u001b[39m\u001b[38;5;124m\"\u001b[39m\u001b[38;5;124mUsing k=\u001b[39m\u001b[38;5;132;01m{\u001b[39;00mk_value\u001b[38;5;132;01m}\u001b[39;00m\u001b[38;5;124m for SVD\u001b[39m\u001b[38;5;124m\"\u001b[39m)\n",
      "\u001b[1;31mNameError\u001b[0m: name 'final_ratings_matrix_sparse' is not defined"
     ]
    }
   ],
   "source": [
    "# Perform SVD with dynamic k\n",
    "k_value = min(final_ratings_matrix_sparse.shape) - 1\n",
    "k_value = max(1, k_value)  # Ensure k is at least 1\n",
    "print(f\"Using k={k_value} for SVD\")\n",
    "U, sigma, Vt = svds(final_ratings_matrix_sparse, k=k_value)\n",
    "sigma = np.diag(sigma)"
   ]
  },
  {
   "cell_type": "code",
   "execution_count": null,
   "id": "dfc17d6c-7f39-4f84-9fd3-558150b3993e",
   "metadata": {},
   "outputs": [
    {
     "ename": "NameError",
     "evalue": "name 'np' is not defined",
     "output_type": "error",
     "traceback": [
      "\u001b[1;31m---------------------------------------------------------------------------\u001b[0m",
      "\u001b[1;31mNameError\u001b[0m                                 Traceback (most recent call last)",
      "Cell \u001b[1;32mIn[8], line 2\u001b[0m\n\u001b[0;32m      1\u001b[0m \u001b[38;5;66;03m# Reconstruct Predicted Ratings\u001b[39;00m\n\u001b[1;32m----> 2\u001b[0m predicted_ratings \u001b[38;5;241m=\u001b[39m \u001b[43mnp\u001b[49m\u001b[38;5;241m.\u001b[39mdot(np\u001b[38;5;241m.\u001b[39mdot(U, sigma), Vt)\n\u001b[0;32m      3\u001b[0m predicted_ratings_df \u001b[38;5;241m=\u001b[39m pd\u001b[38;5;241m.\u001b[39mDataFrame(predicted_ratings, index\u001b[38;5;241m=\u001b[39mfinal_ratings_matrix\u001b[38;5;241m.\u001b[39mindex, columns\u001b[38;5;241m=\u001b[39mfinal_ratings_matrix\u001b[38;5;241m.\u001b[39mcolumns)\n",
      "\u001b[1;31mNameError\u001b[0m: name 'np' is not defined"
     ]
    }
   ],
   "source": [
    "# Reconstruct Predicted Ratings\n",
    "predicted_ratings = np.dot(np.dot(U, sigma), Vt)\n",
    "predicted_ratings_df = pd.DataFrame(predicted_ratings, index=final_ratings_matrix.index, columns=final_ratings_matrix.columns)"
   ]
  },
  {
   "cell_type": "code",
   "execution_count": null,
   "id": "b9ddbc0b-a663-4ce7-9ff0-0c0ff35ae3a7",
   "metadata": {},
   "outputs": [],
   "source": [
    "def recommend_items(user_id, top_n=5):\n",
    "    user_index = list(final_ratings_matrix.index).index(user_id)\n",
    "    predicted_ratings = predicted_ratings_df.iloc[user_index].sort_values(ascending=False)\n",
    "    recommended_products = predicted_ratings.head(top_n).index\n",
    "\n",
    "    # Add image URLs to the recommendations\n",
    "    recommendations_with_images = [\n",
    "        {\n",
    "            \"prod_id\": product,\n",
    "            \"name\": product,\n",
    "            \"imageUrl\": product_images.get(product, \"https://example.com/images/placeholder.jpg\"),\n",
    "        }\n",
    "        for product in recommended_products\n",
    "    ]\n",
    "\n",
    "    return recommendations_with_images\n"
   ]
  },
  {
   "cell_type": "code",
   "execution_count": null,
   "id": "1e7c94d4-f46d-43e7-a3aa-149f0e120ad0",
   "metadata": {},
   "outputs": [
    {
     "ename": "NameError",
     "evalue": "name 'df_final' is not defined",
     "output_type": "error",
     "traceback": [
      "\u001b[1;31m---------------------------------------------------------------------------\u001b[0m",
      "\u001b[1;31mNameError\u001b[0m                                 Traceback (most recent call last)",
      "Cell \u001b[1;32mIn[4], line 1\u001b[0m\n\u001b[1;32m----> 1\u001b[0m example_user \u001b[38;5;241m=\u001b[39m \u001b[43mdf_final\u001b[49m[\u001b[38;5;124m'\u001b[39m\u001b[38;5;124muser_id\u001b[39m\u001b[38;5;124m'\u001b[39m]\u001b[38;5;241m.\u001b[39miloc[\u001b[38;5;241m0\u001b[39m]  \u001b[38;5;66;03m# Replace with a valid user ID\u001b[39;00m\n\u001b[0;32m      2\u001b[0m recommendations \u001b[38;5;241m=\u001b[39m recommend_items(example_user, top_n\u001b[38;5;241m=\u001b[39m\u001b[38;5;241m5\u001b[39m)\n\u001b[0;32m      4\u001b[0m \u001b[38;5;66;03m# Print recommendations\u001b[39;00m\n",
      "\u001b[1;31mNameError\u001b[0m: name 'df_final' is not defined"
     ]
    }
   ],
   "source": [
    "example_user = df_final['user_id'].iloc[0]  # Replace with a valid user ID\n",
    "recommendations = recommend_items(example_user, top_n=5)\n",
    "\n",
    "# Print recommendations\n",
    "for rec in recommendations:\n",
    "    print(f\"Product ID: {rec['prod_id']}, Name: {rec['name']}, Image: {rec['imageUrl']}\")\n"
   ]
  },
  {
   "cell_type": "code",
   "execution_count": null,
   "id": "592fc89c-9ce2-4a19-b9a5-111f999f7cf7",
   "metadata": {},
   "outputs": [],
   "source": [
    "# Dictionary to map product IDs/names to image URLs\n",
    "product_images = {\n",
    "    \"Samsung Galaxy S22\": \"https://example.com/images/samsung-galaxy-s22.jpg\",\n",
    "    \"Apple iPad Air\": \"https://example.com/images/apple-ipad-air.jpg\",\n",
    "    \"Google Pixel 6\": \"https://example.com/images/google-pixel-6.jpg\",\n",
    "    \"Oneplus 12r\": \"https://example.com/images/oneplus-12r.jpg\",\n",
    "    \"iPhone 15 Pro\": \"https://example.com/images/iphone-15-pro.jpg\",\n",
    "}\n"
   ]
  },
  {
   "cell_type": "code",
   "execution_count": null,
   "id": "db37c646",
   "metadata": {},
   "outputs": [],
   "source": []
  }
 ],
 "metadata": {
  "kernelspec": {
   "display_name": "Python 3",
   "language": "python",
   "name": "python3"
  },
  "language_info": {
   "codemirror_mode": {
    "name": "ipython",
    "version": 3
   },
   "file_extension": ".py",
   "mimetype": "text/x-python",
   "name": "python",
   "nbconvert_exporter": "python",
   "pygments_lexer": "ipython3",
   "version": "3.12.2"
  }
 },
 "nbformat": 4,
 "nbformat_minor": 5
}
